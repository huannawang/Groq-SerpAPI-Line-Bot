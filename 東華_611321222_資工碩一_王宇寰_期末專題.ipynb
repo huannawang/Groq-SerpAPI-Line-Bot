{
  "nbformat": 4,
  "nbformat_minor": 0,
  "metadata": {
    "colab": {
      "provenance": [],
      "mount_file_id": "1oclhNrzlndwwUYygVNNJsQH0Mlf6AKxw",
      "authorship_tag": "ABX9TyMk5xay+6H4KUzo9YvQ174I",
      "include_colab_link": true
    },
    "kernelspec": {
      "name": "python3",
      "display_name": "Python 3"
    },
    "language_info": {
      "name": "python"
    }
  },
  "cells": [
    {
      "cell_type": "markdown",
      "metadata": {
        "id": "view-in-github",
        "colab_type": "text"
      },
      "source": [
        "<a href=\"https://colab.research.google.com/github/huannawang/Groq-SerpAPI-Line-Bot/blob/main/%E6%9D%B1%E8%8F%AF_611321222_%E8%B3%87%E5%B7%A5%E7%A2%A9%E4%B8%80_%E7%8E%8B%E5%AE%87%E5%AF%B0_%E6%9C%9F%E6%9C%AB%E5%B0%88%E9%A1%8C.ipynb\" target=\"_parent\"><img src=\"https://colab.research.google.com/assets/colab-badge.svg\" alt=\"Open In Colab\"/></a>"
      ]
    },
    {
      "cell_type": "markdown",
      "source": [
        "#ngrok"
      ],
      "metadata": {
        "id": "-9S-AawWyB86"
      }
    },
    {
      "cell_type": "code",
      "execution_count": null,
      "metadata": {
        "colab": {
          "base_uri": "https://localhost:8080/"
        },
        "id": "i9qO0w5eDt8V",
        "outputId": "572ea129-b31b-4ea4-d460-41e3cc476ace"
      },
      "outputs": [
        {
          "output_type": "stream",
          "name": "stdout",
          "text": [
            "Mounted at /content/drive\n"
          ]
        }
      ],
      "source": [
        "#將這個 Colab 筆記本串接 Google 雲端硬碟\n",
        "from google.colab import drive\n",
        "drive.mount('/content/drive', force_remount=True)\n",
        "\n",
        "!mkdir -p /drive\n",
        "#umount /drive\n",
        "!mount --bind /content/drive/My\\ Drive /drive\n",
        "!mkdir -p /drive/ngrok-ssh\n",
        "!mkdir -p ~/.ssh"
      ]
    },
    {
      "cell_type": "code",
      "source": [
        "#將 ngrok 安裝到 Google 雲端硬碟中\n",
        "!mkdir -p /drive/ngrok-ssh\n",
        "%cd /drive/ngrok-ssh\n",
        "!wget https://bin.equinox.io/c/4VmDzA7iaHb/ngrok-stable-linux-amd64.zip -O ngrok-stable-linux-amd64.zip\n",
        "!unzip -u ngrok-stable-linux-amd64.zip\n",
        "!cp /drive/ngrok-ssh/ngrok /ngrok\n",
        "!chmod +x /ngrok"
      ],
      "metadata": {
        "colab": {
          "base_uri": "https://localhost:8080/"
        },
        "id": "SBuzT7ltEwmI",
        "outputId": "6bdf5398-0e67-4952-bc65-12b84c6feeb7",
        "collapsed": true
      },
      "execution_count": null,
      "outputs": [
        {
          "output_type": "stream",
          "name": "stdout",
          "text": [
            "/drive/ngrok-ssh\n",
            "--2025-05-16 05:27:44--  https://bin.equinox.io/c/4VmDzA7iaHb/ngrok-stable-linux-amd64.zip\n",
            "Resolving bin.equinox.io (bin.equinox.io)... 99.83.220.108, 13.248.244.96, 35.71.179.82, ...\n",
            "Connecting to bin.equinox.io (bin.equinox.io)|99.83.220.108|:443... connected.\n",
            "HTTP request sent, awaiting response... 200 OK\n",
            "Length: 13921656 (13M) [application/octet-stream]\n",
            "Saving to: ‘ngrok-stable-linux-amd64.zip’\n",
            "\n",
            "ngrok-stable-linux- 100%[===================>]  13.28M  33.5MB/s    in 0.4s    \n",
            "\n",
            "2025-05-16 05:27:45 (33.5 MB/s) - ‘ngrok-stable-linux-amd64.zip’ saved [13921656/13921656]\n",
            "\n",
            "Archive:  ngrok-stable-linux-amd64.zip\n"
          ]
        }
      ]
    },
    {
      "cell_type": "code",
      "source": [
        "#使用 ngrok 指令輸入 token\n",
        "from google.colab import userdata\n",
        "ngrok_token = userdata.get(\"ngrokToken\")\n",
        "!/ngrok authtoken {ngrok_token}"
      ],
      "metadata": {
        "colab": {
          "base_uri": "https://localhost:8080/"
        },
        "id": "af8_hWSIE2r-",
        "outputId": "0c8cba87-232e-40ea-8bcb-da2630c4be54"
      },
      "execution_count": null,
      "outputs": [
        {
          "output_type": "stream",
          "name": "stdout",
          "text": [
            "Authtoken saved to configuration file: /root/.ngrok2/ngrok.yml\n"
          ]
        }
      ]
    },
    {
      "cell_type": "code",
      "source": [
        "!pip install pyngrok"
      ],
      "metadata": {
        "colab": {
          "base_uri": "https://localhost:8080/"
        },
        "id": "l6lwMIi0FB92",
        "outputId": "e1cd036f-9144-4891-a1df-34fe74ef5ac6",
        "collapsed": true
      },
      "execution_count": null,
      "outputs": [
        {
          "output_type": "stream",
          "name": "stdout",
          "text": [
            "Collecting pyngrok\n",
            "  Downloading pyngrok-7.2.8-py3-none-any.whl.metadata (10 kB)\n",
            "Requirement already satisfied: PyYAML>=5.1 in /usr/local/lib/python3.11/dist-packages (from pyngrok) (6.0.2)\n",
            "Downloading pyngrok-7.2.8-py3-none-any.whl (25 kB)\n",
            "Installing collected packages: pyngrok\n",
            "Successfully installed pyngrok-7.2.8\n"
          ]
        }
      ]
    },
    {
      "cell_type": "code",
      "source": [
        "#輸入 ngrok token，與 ngrok 進行認證\n",
        "import getpass\n",
        "\n",
        "from pyngrok import ngrok, conf\n",
        "\n",
        "print(\"Enter your ngrok authtoken, which can be copied from https://dashboard.ngrok.com/auth\")\n",
        "conf.get_default().auth_token = ngrok_token\n",
        "\n",
        "# Open a TCP ngrok tunnel to the SSH server\n",
        "connection_string = ngrok.connect(\"22\", \"tcp\").public_url\n",
        "\n",
        "ssh_url, port = connection_string.strip(\"tcp://\").split(\":\")\n",
        "print(f\" * ngrok tunnel available, access with `ssh root@{ssh_url} -p{port}`\")"
      ],
      "metadata": {
        "id": "14668BHfFaA4"
      },
      "execution_count": null,
      "outputs": []
    },
    {
      "cell_type": "code",
      "source": [
        "#測試用，不用執行\n",
        "from pyngrok import ngrok\n",
        "\n",
        "public_url = ngrok.connect(5000)\n",
        "print(\" * ngrok public URL:\", public_url)"
      ],
      "metadata": {
        "id": "51dV6DXAImAX"
      },
      "execution_count": null,
      "outputs": []
    },
    {
      "cell_type": "code",
      "source": [
        "#清理port\n",
        "from pyngrok import ngrok\n",
        "ngrok.kill()"
      ],
      "metadata": {
        "id": "hU8BfP8FRDi6"
      },
      "execution_count": null,
      "outputs": []
    },
    {
      "cell_type": "markdown",
      "source": [
        "#Groq提取查詢關鍵字"
      ],
      "metadata": {
        "id": "FlIOvKlHypYJ"
      }
    },
    {
      "cell_type": "code",
      "source": [
        "!pip install serpapi\n",
        "!pip install groq"
      ],
      "metadata": {
        "colab": {
          "base_uri": "https://localhost:8080/"
        },
        "collapsed": true,
        "id": "xd_PjD1KySfl",
        "outputId": "2ed63b8a-4b65-4374-c18e-74c82c25190b"
      },
      "execution_count": null,
      "outputs": [
        {
          "output_type": "stream",
          "name": "stdout",
          "text": [
            "Collecting serpapi\n",
            "  Downloading serpapi-0.1.5-py2.py3-none-any.whl.metadata (10 kB)\n",
            "Requirement already satisfied: requests in /usr/local/lib/python3.11/dist-packages (from serpapi) (2.32.3)\n",
            "Requirement already satisfied: charset-normalizer<4,>=2 in /usr/local/lib/python3.11/dist-packages (from requests->serpapi) (3.4.2)\n",
            "Requirement already satisfied: idna<4,>=2.5 in /usr/local/lib/python3.11/dist-packages (from requests->serpapi) (3.10)\n",
            "Requirement already satisfied: urllib3<3,>=1.21.1 in /usr/local/lib/python3.11/dist-packages (from requests->serpapi) (2.4.0)\n",
            "Requirement already satisfied: certifi>=2017.4.17 in /usr/local/lib/python3.11/dist-packages (from requests->serpapi) (2025.4.26)\n",
            "Downloading serpapi-0.1.5-py2.py3-none-any.whl (10 kB)\n",
            "Installing collected packages: serpapi\n",
            "Successfully installed serpapi-0.1.5\n",
            "Collecting groq\n",
            "  Downloading groq-0.24.0-py3-none-any.whl.metadata (15 kB)\n",
            "Requirement already satisfied: anyio<5,>=3.5.0 in /usr/local/lib/python3.11/dist-packages (from groq) (4.9.0)\n",
            "Requirement already satisfied: distro<2,>=1.7.0 in /usr/local/lib/python3.11/dist-packages (from groq) (1.9.0)\n",
            "Requirement already satisfied: httpx<1,>=0.23.0 in /usr/local/lib/python3.11/dist-packages (from groq) (0.28.1)\n",
            "Requirement already satisfied: pydantic<3,>=1.9.0 in /usr/local/lib/python3.11/dist-packages (from groq) (2.11.4)\n",
            "Requirement already satisfied: sniffio in /usr/local/lib/python3.11/dist-packages (from groq) (1.3.1)\n",
            "Requirement already satisfied: typing-extensions<5,>=4.10 in /usr/local/lib/python3.11/dist-packages (from groq) (4.13.2)\n",
            "Requirement already satisfied: idna>=2.8 in /usr/local/lib/python3.11/dist-packages (from anyio<5,>=3.5.0->groq) (3.10)\n",
            "Requirement already satisfied: certifi in /usr/local/lib/python3.11/dist-packages (from httpx<1,>=0.23.0->groq) (2025.4.26)\n",
            "Requirement already satisfied: httpcore==1.* in /usr/local/lib/python3.11/dist-packages (from httpx<1,>=0.23.0->groq) (1.0.9)\n",
            "Requirement already satisfied: h11>=0.16 in /usr/local/lib/python3.11/dist-packages (from httpcore==1.*->httpx<1,>=0.23.0->groq) (0.16.0)\n",
            "Requirement already satisfied: annotated-types>=0.6.0 in /usr/local/lib/python3.11/dist-packages (from pydantic<3,>=1.9.0->groq) (0.7.0)\n",
            "Requirement already satisfied: pydantic-core==2.33.2 in /usr/local/lib/python3.11/dist-packages (from pydantic<3,>=1.9.0->groq) (2.33.2)\n",
            "Requirement already satisfied: typing-inspection>=0.4.0 in /usr/local/lib/python3.11/dist-packages (from pydantic<3,>=1.9.0->groq) (0.4.0)\n",
            "Downloading groq-0.24.0-py3-none-any.whl (127 kB)\n",
            "\u001b[2K   \u001b[90m━━━━━━━━━━━━━━━━━━━━━━━━━━━━━━━━━━━━━━━━\u001b[0m \u001b[32m127.5/127.5 kB\u001b[0m \u001b[31m10.5 MB/s\u001b[0m eta \u001b[36m0:00:00\u001b[0m\n",
            "\u001b[?25hInstalling collected packages: groq\n",
            "Successfully installed groq-0.24.0\n"
          ]
        }
      ]
    },
    {
      "cell_type": "code",
      "source": [
        "#設定Groq模型\n",
        "import os\n",
        "from groq import Groq\n",
        "from google.colab import userdata\n",
        "from openai import OpenAI\n",
        "\n",
        "Groq_api_key = userdata.get('Groq')\n",
        "os.environ[\"OPENAI_API_KEY\"] = Groq_api_key\n",
        "model = \"llama3-70b-8192\"\n",
        "base_url=\"https://api.groq.com/openai/v1\"\n",
        "client = OpenAI(base_url=base_url)"
      ],
      "metadata": {
        "id": "uoWdVn2Kycyc"
      },
      "execution_count": null,
      "outputs": []
    },
    {
      "cell_type": "code",
      "source": [
        "#模型將使用者的查詢提取出關鍵字\n",
        "import json\n",
        "\n",
        "def Analyze_keywords(user_query):\n",
        "  system_inst = (\n",
        "      \"Parse the user query into a JSON list of keyword strings, \"\n",
        "      \"which is suitable for the Google search engine. \"\n",
        "      \"For example, query: how to learn python? \"\n",
        "      'Output: {\"keywords\": [\"python\", \"learn\"]}'\n",
        "  )\n",
        "  messages = [\n",
        "      {\"role\": \"system\", \"content\": system_inst},\n",
        "      {\"role\": \"user\", \"content\": user_query},\n",
        "  ]\n",
        "\n",
        "  completion = client.chat.completions.create(\n",
        "      model=model,\n",
        "      messages=messages,\n",
        "      response_format={\"type\": \"json_object\"},\n",
        "  )\n",
        "  result = json.loads(completion.choices[0].message.content)\n",
        "\n",
        "  q = \" \".join(result[\"keywords\"])\n",
        "\n",
        "  return q"
      ],
      "metadata": {
        "id": "sMvvrXsfzEhz"
      },
      "execution_count": null,
      "outputs": []
    },
    {
      "cell_type": "markdown",
      "source": [
        "#SerpAPI\n"
      ],
      "metadata": {
        "id": "LNJZQsaqyK_T"
      }
    },
    {
      "cell_type": "code",
      "source": [
        "#設定SerpApi\n",
        "import serpapi\n",
        "\n",
        "serpapi_api_key = userdata.get('SerpAPI')\n",
        "serp_client = serpapi.Client(api_key=serpapi_api_key)"
      ],
      "metadata": {
        "id": "wEGQaa6iyotM"
      },
      "execution_count": null,
      "outputs": []
    },
    {
      "cell_type": "code",
      "source": [
        "#將Groq提取完的查詢關鍵字給SerpApi查詢，return多筆查詢結果\n",
        "def SerpAPI_search(query_keywords):\n",
        "  result = serp_client.search(q=query_keywords, engine=\"google\", location=\"Taiwan\", hl=\"zh-tw\", gl=\"tw\")\n",
        "  snippets = [item[\"snippet\"] for item in result[\"organic_results\"]]\n",
        "  return snippets"
      ],
      "metadata": {
        "id": "23IJjzwtzaoU"
      },
      "execution_count": null,
      "outputs": []
    },
    {
      "cell_type": "markdown",
      "source": [
        "#Groq分析查詢結果"
      ],
      "metadata": {
        "id": "xAQ6gro-yNSR"
      }
    },
    {
      "cell_type": "code",
      "source": [
        "#Groq分析查詢結果的system_prompt\n",
        "def Groq_Analyze(snippets, user_query):\n",
        "  system_prompt = \"\"\"你是一位專業的資訊統整與分析專家，擅長統整與分析多筆資訊。\n",
        "  請根據提供的資料來統整與分析，讓使用者快速掌握資訊，用簡單、清楚的台灣中文說明。\n",
        "  重要：請一律使用台灣常用的【繁體中文】回答，禁止使用英文或簡體字。\"\"\"\n",
        "  #Groq分析查詢結果的final_prompt\n",
        "  final_prompt = \"\\n\\n\".join(snippets)\n",
        "  final_prompt += f\"\\n\\n請根據以上資訊，詳細回答使用者的問題：{user_query}\"\n",
        "\n",
        "  messages = [\n",
        "      {\"role\": \"system\", \"content\": system_prompt},\n",
        "      {\"role\": \"user\", \"content\": final_prompt},\n",
        "  ]\n",
        "  #Groq分析查詢結果\n",
        "  chat_completion = client.chat.completions.create(\n",
        "      messages=messages,\n",
        "      model=model,\n",
        "  )\n",
        "  Analysis_result = chat_completion.choices[0].message.content\n",
        "\n",
        "  return Analysis_result"
      ],
      "metadata": {
        "id": "Y96PxAYJyMxK"
      },
      "execution_count": null,
      "outputs": []
    },
    {
      "cell_type": "markdown",
      "source": [
        "#Groq對話模式，不執行搜尋"
      ],
      "metadata": {
        "id": "2ujFLj-6JOqA"
      }
    },
    {
      "cell_type": "code",
      "source": [
        "# 處理一般對話（純聊天、無搜尋）\n",
        "def Groq_Chat(user_id, user_query):\n",
        "    system_prompt = \"\"\"你是一位親切、專業的ai大型語言模型，請用台灣常見的繁體中文回答問題，請勿使用簡體字與英文。\"\"\"\n",
        "\n",
        "    # 取出使用者的對話歷史\n",
        "    history = conversation_histories.get(user_id, [])\n",
        "\n",
        "    # 插入 system prompt 在最前面\n",
        "    messages = [{\"role\": \"system\", \"content\": system_prompt}] + history + [{\"role\": \"user\", \"content\": user_query}]\n",
        "\n",
        "    chat_completion = client.chat.completions.create(\n",
        "        messages=messages,\n",
        "        model=model,\n",
        "    )\n",
        "    assistant_reply = chat_completion.choices[0].message.content\n",
        "    return assistant_reply"
      ],
      "metadata": {
        "id": "b-RIDiXJJWvX"
      },
      "execution_count": null,
      "outputs": []
    },
    {
      "cell_type": "markdown",
      "source": [
        "# Line bot"
      ],
      "metadata": {
        "id": "642TByyVo1Th"
      }
    },
    {
      "cell_type": "code",
      "source": [
        "!pip install flask line-bot-sdk"
      ],
      "metadata": {
        "collapsed": true,
        "colab": {
          "base_uri": "https://localhost:8080/"
        },
        "id": "LS1FP8lbPmNh",
        "outputId": "9412ff03-5f50-4d55-a7d9-1c250233f168"
      },
      "execution_count": null,
      "outputs": [
        {
          "output_type": "stream",
          "name": "stdout",
          "text": [
            "Requirement already satisfied: flask in /usr/local/lib/python3.11/dist-packages (3.1.1)\n",
            "Collecting line-bot-sdk\n",
            "  Downloading line_bot_sdk-3.17.1-py2.py3-none-any.whl.metadata (13 kB)\n",
            "Requirement already satisfied: blinker>=1.9.0 in /usr/local/lib/python3.11/dist-packages (from flask) (1.9.0)\n",
            "Requirement already satisfied: click>=8.1.3 in /usr/local/lib/python3.11/dist-packages (from flask) (8.2.0)\n",
            "Requirement already satisfied: itsdangerous>=2.2.0 in /usr/local/lib/python3.11/dist-packages (from flask) (2.2.0)\n",
            "Requirement already satisfied: jinja2>=3.1.2 in /usr/local/lib/python3.11/dist-packages (from flask) (3.1.6)\n",
            "Requirement already satisfied: markupsafe>=2.1.1 in /usr/local/lib/python3.11/dist-packages (from flask) (3.0.2)\n",
            "Requirement already satisfied: werkzeug>=3.1.0 in /usr/local/lib/python3.11/dist-packages (from flask) (3.1.3)\n",
            "Requirement already satisfied: requests<3,>=2.32.3 in /usr/local/lib/python3.11/dist-packages (from line-bot-sdk) (2.32.3)\n",
            "Requirement already satisfied: urllib3<3,>=2.0.5 in /usr/local/lib/python3.11/dist-packages (from line-bot-sdk) (2.4.0)\n",
            "Requirement already satisfied: aiohttp<4,>=3.10.9 in /usr/local/lib/python3.11/dist-packages (from line-bot-sdk) (3.11.15)\n",
            "Requirement already satisfied: future>=1.0.0 in /usr/local/lib/python3.11/dist-packages (from line-bot-sdk) (1.0.0)\n",
            "Requirement already satisfied: pydantic<3,>=2.0.3 in /usr/local/lib/python3.11/dist-packages (from line-bot-sdk) (2.11.4)\n",
            "Collecting aenum<4,>=3.1.11 (from line-bot-sdk)\n",
            "  Downloading aenum-3.1.16-py3-none-any.whl.metadata (3.8 kB)\n",
            "Requirement already satisfied: python_dateutil<3,>=2.5.3 in /usr/local/lib/python3.11/dist-packages (from line-bot-sdk) (2.9.0.post0)\n",
            "Collecting Deprecated>=1.2.18 (from line-bot-sdk)\n",
            "  Downloading Deprecated-1.2.18-py2.py3-none-any.whl.metadata (5.7 kB)\n",
            "Requirement already satisfied: aiohappyeyeballs>=2.3.0 in /usr/local/lib/python3.11/dist-packages (from aiohttp<4,>=3.10.9->line-bot-sdk) (2.6.1)\n",
            "Requirement already satisfied: aiosignal>=1.1.2 in /usr/local/lib/python3.11/dist-packages (from aiohttp<4,>=3.10.9->line-bot-sdk) (1.3.2)\n",
            "Requirement already satisfied: attrs>=17.3.0 in /usr/local/lib/python3.11/dist-packages (from aiohttp<4,>=3.10.9->line-bot-sdk) (25.3.0)\n",
            "Requirement already satisfied: frozenlist>=1.1.1 in /usr/local/lib/python3.11/dist-packages (from aiohttp<4,>=3.10.9->line-bot-sdk) (1.6.0)\n",
            "Requirement already satisfied: multidict<7.0,>=4.5 in /usr/local/lib/python3.11/dist-packages (from aiohttp<4,>=3.10.9->line-bot-sdk) (6.4.3)\n",
            "Requirement already satisfied: propcache>=0.2.0 in /usr/local/lib/python3.11/dist-packages (from aiohttp<4,>=3.10.9->line-bot-sdk) (0.3.1)\n",
            "Requirement already satisfied: yarl<2.0,>=1.17.0 in /usr/local/lib/python3.11/dist-packages (from aiohttp<4,>=3.10.9->line-bot-sdk) (1.20.0)\n",
            "Requirement already satisfied: wrapt<2,>=1.10 in /usr/local/lib/python3.11/dist-packages (from Deprecated>=1.2.18->line-bot-sdk) (1.17.2)\n",
            "Requirement already satisfied: annotated-types>=0.6.0 in /usr/local/lib/python3.11/dist-packages (from pydantic<3,>=2.0.3->line-bot-sdk) (0.7.0)\n",
            "Requirement already satisfied: pydantic-core==2.33.2 in /usr/local/lib/python3.11/dist-packages (from pydantic<3,>=2.0.3->line-bot-sdk) (2.33.2)\n",
            "Requirement already satisfied: typing-extensions>=4.12.2 in /usr/local/lib/python3.11/dist-packages (from pydantic<3,>=2.0.3->line-bot-sdk) (4.13.2)\n",
            "Requirement already satisfied: typing-inspection>=0.4.0 in /usr/local/lib/python3.11/dist-packages (from pydantic<3,>=2.0.3->line-bot-sdk) (0.4.0)\n",
            "Requirement already satisfied: six>=1.5 in /usr/local/lib/python3.11/dist-packages (from python_dateutil<3,>=2.5.3->line-bot-sdk) (1.17.0)\n",
            "Requirement already satisfied: charset-normalizer<4,>=2 in /usr/local/lib/python3.11/dist-packages (from requests<3,>=2.32.3->line-bot-sdk) (3.4.2)\n",
            "Requirement already satisfied: idna<4,>=2.5 in /usr/local/lib/python3.11/dist-packages (from requests<3,>=2.32.3->line-bot-sdk) (3.10)\n",
            "Requirement already satisfied: certifi>=2017.4.17 in /usr/local/lib/python3.11/dist-packages (from requests<3,>=2.32.3->line-bot-sdk) (2025.4.26)\n",
            "Downloading line_bot_sdk-3.17.1-py2.py3-none-any.whl (776 kB)\n",
            "\u001b[2K   \u001b[90m━━━━━━━━━━━━━━━━━━━━━━━━━━━━━━━━━━━━━━━━\u001b[0m \u001b[32m776.1/776.1 kB\u001b[0m \u001b[31m32.3 MB/s\u001b[0m eta \u001b[36m0:00:00\u001b[0m\n",
            "\u001b[?25hDownloading aenum-3.1.16-py3-none-any.whl (165 kB)\n",
            "\u001b[2K   \u001b[90m━━━━━━━━━━━━━━━━━━━━━━━━━━━━━━━━━━━━━━━━\u001b[0m \u001b[32m165.6/165.6 kB\u001b[0m \u001b[31m12.7 MB/s\u001b[0m eta \u001b[36m0:00:00\u001b[0m\n",
            "\u001b[?25hDownloading Deprecated-1.2.18-py2.py3-none-any.whl (10.0 kB)\n",
            "Installing collected packages: aenum, Deprecated, line-bot-sdk\n",
            "Successfully installed Deprecated-1.2.18 aenum-3.1.16 line-bot-sdk-3.17.1\n"
          ]
        }
      ]
    },
    {
      "cell_type": "code",
      "source": [
        "#建立伺服器，會得到一串 ngrok 對應的網址\n",
        "#前往Line官方帳號Messaging API將此網址貼到\"Webhook網址\"\n",
        "#前往Line devrloper的devrlope console 的 Messaging API settings認證\n",
        "from flask import Flask, request\n",
        "from pyngrok import ngrok\n",
        "\n",
        "\n",
        "# 載入 LINE Message API 相關函式庫\n",
        "from linebot import LineBotApi, WebhookHandler\n",
        "from linebot.exceptions import InvalidSignatureError\n",
        "from linebot.models import MessageEvent, TextMessage, TextSendMessage\n",
        "\n",
        "import json\n",
        "\n",
        "app = Flask(__name__)\n",
        "port = \"5000\"\n",
        "\n",
        "# Open a ngrok tunnel to the HTTP server\n",
        "public_url = ngrok.connect(port).public_url\n",
        "print(f\" * ngrok tunnel \\\"{public_url}\\\" -> \\\"http://127.0.0.1:{port}\\\" \")\n",
        "\n",
        "# 管理使用者搜尋狀態\n",
        "search_mode_users = set()\n",
        "# 記錄每個 user_id 的對話歷史\n",
        "conversation_histories = {}\n",
        "\n",
        "@app.route(\"/\", methods=['POST'])\n",
        "def linebot():\n",
        "    body = request.get_data(as_text=True)            # 取得收到的訊息內容\n",
        "    try:\n",
        "        json_data = json.loads(body)            # json 格式化訊息內容\n",
        "        access_token = userdata.get('ChannelAccessToken')\n",
        "        secret = userdata.get('ChannelSecret')\n",
        "        line_bot_api = LineBotApi(access_token)       # 確認 token 是否正確\n",
        "        handler = WebhookHandler(secret)           # 確認 secret 是否正確\n",
        "        signature = request.headers['X-Line-Signature']   # 加入回傳的 headers\n",
        "        handler.handle(body, signature)            # 綁定訊息回傳的相關資訊\n",
        "\n",
        "        event = json_data['events'][0]\n",
        "        msg = event['message']['text']           # 取得 LINE 收到的文字訊息\n",
        "        tk = event['replyToken']              # 取得回傳訊息的 Token\n",
        "        user_id = event['source']['userId']\n",
        "\n",
        "        # 初始化該使用者的對話歷史（如果還沒有的話）\n",
        "        if user_id not in conversation_histories:\n",
        "            conversation_histories[user_id] = []\n",
        "\n",
        "        #使用者按下搜尋按鈕（傳出特定訊息）\n",
        "        if msg == \"我要開始輸入問題囉\":\n",
        "            search_mode_users.add(user_id)\n",
        "            line_bot_api.reply_message(tk, TextSendMessage(\"請輸入你想查詢的問題，我會幫你搜尋並分析\"))\n",
        "\n",
        "        #如果使用者在搜尋模式中\n",
        "        if user_id in search_mode_users:\n",
        "            query_keywords = Analyze_keywords(msg)\n",
        "            SerpAPI_search_result = SerpAPI_search(query_keywords)\n",
        "            answer = Groq_Analyze(SerpAPI_search_result, msg)\n",
        "            search_mode_users.remove(user_id)\n",
        "        else:#一般對話模式（不搜尋）\n",
        "            answer = Groq_Chat(user_id, msg)\n",
        "\n",
        "        # 更新對話歷史\n",
        "        conversation_histories[user_id].append({\"role\": \"user\", \"content\": msg})\n",
        "        conversation_histories[user_id].append({\"role\": \"assistant\", \"content\": answer})\n",
        "\n",
        "        # 保留最近 50 輪（100筆 message）\n",
        "        if len(conversation_histories[user_id]) > 100:\n",
        "            conversation_histories[user_id] = conversation_histories[user_id][-100:]\n",
        "\n",
        "        line_bot_api.reply_message(tk, TextSendMessage(answer))  # 回傳訊息\n",
        "\n",
        "\n",
        "    except:\n",
        "        print(body)                      # 如果發生錯誤，印出收到的內容\n",
        "    return 'OK'                          # 驗證 Webhook 使用，不能省略\n",
        "if __name__ == \"__main__\":\n",
        "  app.run()"
      ],
      "metadata": {
        "id": "li5kbf1yPqtQ"
      },
      "execution_count": null,
      "outputs": []
    }
  ]
}