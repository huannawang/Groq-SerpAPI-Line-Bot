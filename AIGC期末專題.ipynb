{
  "nbformat": 4,
  "nbformat_minor": 0,
  "metadata": {
    "colab": {
      "provenance": [],
      "mount_file_id": "1oclhNrzlndwwUYygVNNJsQH0Mlf6AKxw",
      "authorship_tag": "ABX9TyMk5xay+6H4KUzo9YvQ174I",
      "include_colab_link": true
    },
    "kernelspec": {
      "name": "python3",
      "display_name": "Python 3"
    },
    "language_info": {
      "name": "python"
    }
  },
  "cells": [
    {
      "cell_type": "markdown",
      "metadata": {
        "id": "view-in-github",
        "colab_type": "text"
      },
      "source": [
        "<a href=\"https://colab.research.google.com/github/huannawang/Groq-SerpAPI-Line-Bot/blob/main/AIGC%E6%9C%9F%E6%9C%AB%E5%B0%88%E9%A1%8C.ipynb\" target=\"_parent\"><img src=\"https://colab.research.google.com/assets/colab-badge.svg\" alt=\"Open In Colab\"/></a>"
      ]
    },
    {
      "cell_type": "markdown",
      "source": [
        "#ngrok"
      ],
      "metadata": {
        "id": "-9S-AawWyB86"
      }
    },
    {
      "cell_type": "code",
      "execution_count": null,
      "metadata": {
        "colab": {
          "base_uri": "https://localhost:8080/"
        },
        "id": "i9qO0w5eDt8V",
        "outputId": "572ea129-b31b-4ea4-d460-41e3cc476ace"
      },
      "outputs": [
        {
          "output_type": "stream",
          "name": "stdout",
          "text": [
            "Mounted at /content/drive\n"
          ]
        }
      ],
      "source": [
        "#將這個 Colab 筆記本串接 Google 雲端硬碟\n",
        "from google.colab import drive\n",
        "drive.mount('/content/drive', force_remount=True)\n",
        "\n",
        "!mkdir -p /drive\n",
        "#umount /drive\n",
        "!mount --bind /content/drive/My\\ Drive /drive\n",
        "!mkdir -p /drive/ngrok-ssh\n",
        "!mkdir -p ~/.ssh"
      ]
    },
    {
      "cell_type": "code",
      "source": [
        "#將 ngrok 安裝到 Google 雲端硬碟中\n",
        "!mkdir -p /drive/ngrok-ssh\n",
        "%cd /drive/ngrok-ssh\n",
        "!wget https://bin.equinox.io/c/4VmDzA7iaHb/ngrok-stable-linux-amd64.zip -O ngrok-stable-linux-amd64.zip\n",
        "!unzip -u ngrok-stable-linux-amd64.zip\n",
        "!cp /drive/ngrok-ssh/ngrok /ngrok\n",
        "!chmod +x /ngrok"
      ],
      "metadata": {
        "id": "SBuzT7ltEwmI"
      },
      "execution_count": null,
      "outputs": []
    },
    {
      "cell_type": "code",
      "source": [
        "#使用 ngrok 指令輸入 token\n",
        "from google.colab import userdata\n",
        "ngrok_token = userdata.get(\"ngrokToken\")\n",
        "!/ngrok authtoken {ngrok_token}"
      ],
      "metadata": {
        "colab": {
          "base_uri": "https://localhost:8080/"
        },
        "id": "af8_hWSIE2r-",
        "outputId": "0c8cba87-232e-40ea-8bcb-da2630c4be54"
      },
      "execution_count": null,
      "outputs": [
        {
          "output_type": "stream",
          "name": "stdout",
          "text": [
            "Authtoken saved to configuration file: /root/.ngrok2/ngrok.yml\n"
          ]
        }
      ]
    },
    {
      "cell_type": "code",
      "source": [
        "!pip install pyngrok"
      ],
      "metadata": {
        "id": "l6lwMIi0FB92",
        "collapsed": true
      },
      "execution_count": null,
      "outputs": []
    },
    {
      "cell_type": "code",
      "source": [
        "#輸入 ngrok token，與 ngrok 進行認證\n",
        "import getpass\n",
        "\n",
        "from pyngrok import ngrok, conf\n",
        "\n",
        "print(\"Enter your ngrok authtoken, which can be copied from https://dashboard.ngrok.com/auth\")\n",
        "conf.get_default().auth_token = ngrok_token\n",
        "\n",
        "# Open a TCP ngrok tunnel to the SSH server\n",
        "connection_string = ngrok.connect(\"22\", \"tcp\").public_url\n",
        "\n",
        "ssh_url, port = connection_string.strip(\"tcp://\").split(\":\")\n",
        "print(f\" * ngrok tunnel available, access with `ssh root@{ssh_url} -p{port}`\")"
      ],
      "metadata": {
        "id": "14668BHfFaA4"
      },
      "execution_count": null,
      "outputs": []
    },
    {
      "cell_type": "code",
      "source": [
        "#測試用，不用執行\n",
        "from pyngrok import ngrok\n",
        "\n",
        "public_url = ngrok.connect(5000)\n",
        "print(\" * ngrok public URL:\", public_url)"
      ],
      "metadata": {
        "id": "51dV6DXAImAX"
      },
      "execution_count": null,
      "outputs": []
    },
    {
      "cell_type": "code",
      "source": [
        "#清理port\n",
        "from pyngrok import ngrok\n",
        "ngrok.kill()"
      ],
      "metadata": {
        "id": "hU8BfP8FRDi6"
      },
      "execution_count": null,
      "outputs": []
    },
    {
      "cell_type": "markdown",
      "source": [
        "#Groq提取查詢關鍵字"
      ],
      "metadata": {
        "id": "FlIOvKlHypYJ"
      }
    },
    {
      "cell_type": "code",
      "source": [
        "!pip install serpapi\n",
        "!pip install groq"
      ],
      "metadata": {
        "id": "xd_PjD1KySfl"
      },
      "execution_count": null,
      "outputs": []
    },
    {
      "cell_type": "code",
      "source": [
        "#設定Groq模型\n",
        "import os\n",
        "from groq import Groq\n",
        "from google.colab import userdata\n",
        "from openai import OpenAI\n",
        "\n",
        "Groq_api_key = userdata.get('Groq')\n",
        "os.environ[\"OPENAI_API_KEY\"] = Groq_api_key\n",
        "model = \"llama3-70b-8192\"\n",
        "base_url=\"https://api.groq.com/openai/v1\"\n",
        "client = OpenAI(base_url=base_url)"
      ],
      "metadata": {
        "id": "uoWdVn2Kycyc"
      },
      "execution_count": null,
      "outputs": []
    },
    {
      "cell_type": "code",
      "source": [
        "#模型將使用者的查詢提取出關鍵字\n",
        "import json\n",
        "\n",
        "def Analyze_keywords(user_query):\n",
        "  system_inst = (\n",
        "      \"Parse the user query into a JSON list of keyword strings, \"\n",
        "      \"which is suitable for the Google search engine. \"\n",
        "      \"For example, query: how to learn python? \"\n",
        "      'Output: {\"keywords\": [\"python\", \"learn\"]}'\n",
        "  )\n",
        "  messages = [\n",
        "      {\"role\": \"system\", \"content\": system_inst},\n",
        "      {\"role\": \"user\", \"content\": user_query},\n",
        "  ]\n",
        "\n",
        "  completion = client.chat.completions.create(\n",
        "      model=model,\n",
        "      messages=messages,\n",
        "      response_format={\"type\": \"json_object\"},\n",
        "  )\n",
        "  result = json.loads(completion.choices[0].message.content)\n",
        "\n",
        "  q = \" \".join(result[\"keywords\"])\n",
        "\n",
        "  return q"
      ],
      "metadata": {
        "id": "sMvvrXsfzEhz"
      },
      "execution_count": null,
      "outputs": []
    },
    {
      "cell_type": "markdown",
      "source": [
        "#SerpAPI\n"
      ],
      "metadata": {
        "id": "LNJZQsaqyK_T"
      }
    },
    {
      "cell_type": "code",
      "source": [
        "#設定SerpApi\n",
        "import serpapi\n",
        "\n",
        "serpapi_api_key = userdata.get('SerpAPI')\n",
        "serp_client = serpapi.Client(api_key=serpapi_api_key)"
      ],
      "metadata": {
        "id": "wEGQaa6iyotM"
      },
      "execution_count": null,
      "outputs": []
    },
    {
      "cell_type": "code",
      "source": [
        "#將Groq提取完的查詢關鍵字給SerpApi查詢，return多筆查詢結果\n",
        "def SerpAPI_search(query_keywords):\n",
        "  result = serp_client.search(q=query_keywords, engine=\"google\", location=\"Taiwan\", hl=\"zh-tw\", gl=\"tw\")\n",
        "  snippets = [item[\"snippet\"] for item in result[\"organic_results\"]]\n",
        "  return snippets"
      ],
      "metadata": {
        "id": "23IJjzwtzaoU"
      },
      "execution_count": null,
      "outputs": []
    },
    {
      "cell_type": "markdown",
      "source": [
        "#Groq分析查詢結果"
      ],
      "metadata": {
        "id": "xAQ6gro-yNSR"
      }
    },
    {
      "cell_type": "code",
      "source": [
        "#Groq分析查詢結果的system_prompt\n",
        "def Groq_Analyze(snippets, user_query):\n",
        "  system_prompt = \"\"\"你是一位專業的資訊統整與分析專家，擅長統整與分析多筆資訊。\n",
        "  請根據提供的資料來統整與分析，讓使用者快速掌握資訊，用簡單、清楚的台灣中文說明。\n",
        "  重要：請一律使用台灣常用的【繁體中文】回答，禁止使用英文或簡體字。\"\"\"\n",
        "  #Groq分析查詢結果的final_prompt\n",
        "  final_prompt = \"\\n\\n\".join(snippets)\n",
        "  final_prompt += f\"\\n\\n請根據以上資訊，詳細回答使用者的問題：{user_query}\"\n",
        "\n",
        "  messages = [\n",
        "      {\"role\": \"system\", \"content\": system_prompt},\n",
        "      {\"role\": \"user\", \"content\": final_prompt},\n",
        "  ]\n",
        "  #Groq分析查詢結果\n",
        "  chat_completion = client.chat.completions.create(\n",
        "      messages=messages,\n",
        "      model=model,\n",
        "  )\n",
        "  Analysis_result = chat_completion.choices[0].message.content\n",
        "\n",
        "  return Analysis_result"
      ],
      "metadata": {
        "id": "Y96PxAYJyMxK"
      },
      "execution_count": null,
      "outputs": []
    },
    {
      "cell_type": "markdown",
      "source": [
        "#Groq對話模式，不執行搜尋"
      ],
      "metadata": {
        "id": "2ujFLj-6JOqA"
      }
    },
    {
      "cell_type": "code",
      "source": [
        "# 處理一般對話（純聊天、無搜尋）\n",
        "def Groq_Chat(user_id, user_query):\n",
        "    system_prompt = \"\"\"你是一位親切、專業的ai大型語言模型，請用台灣常見的繁體中文回答問題，請勿使用簡體字與英文。\"\"\"\n",
        "\n",
        "    # 取出使用者的對話歷史\n",
        "    history = conversation_histories.get(user_id, [])\n",
        "\n",
        "    # 插入 system prompt 在最前面\n",
        "    messages = [{\"role\": \"system\", \"content\": system_prompt}] + history + [{\"role\": \"user\", \"content\": user_query}]\n",
        "\n",
        "    chat_completion = client.chat.completions.create(\n",
        "        messages=messages,\n",
        "        model=model,\n",
        "    )\n",
        "    assistant_reply = chat_completion.choices[0].message.content\n",
        "    return assistant_reply"
      ],
      "metadata": {
        "id": "b-RIDiXJJWvX"
      },
      "execution_count": null,
      "outputs": []
    },
    {
      "cell_type": "markdown",
      "source": [
        "# Line bot"
      ],
      "metadata": {
        "id": "642TByyVo1Th"
      }
    },
    {
      "cell_type": "code",
      "source": [
        "!pip install flask line-bot-sdk"
      ],
      "metadata": {
        "collapsed": true,
        "id": "LS1FP8lbPmNh"
      },
      "execution_count": null,
      "outputs": []
    },
    {
      "cell_type": "code",
      "source": [
        "#建立伺服器，會得到一串 ngrok 對應的網址\n",
        "#前往Line官方帳號Messaging API將此網址貼到\"Webhook網址\"\n",
        "#前往Line devrloper的devrlope console 的 Messaging API settings認證\n",
        "from flask import Flask, request\n",
        "from pyngrok import ngrok\n",
        "\n",
        "\n",
        "# 載入 LINE Message API 相關函式庫\n",
        "from linebot import LineBotApi, WebhookHandler\n",
        "from linebot.exceptions import InvalidSignatureError\n",
        "from linebot.models import MessageEvent, TextMessage, TextSendMessage\n",
        "\n",
        "import json\n",
        "\n",
        "app = Flask(__name__)\n",
        "port = \"5000\"\n",
        "\n",
        "# Open a ngrok tunnel to the HTTP server\n",
        "public_url = ngrok.connect(port).public_url\n",
        "print(f\" * ngrok tunnel \\\"{public_url}\\\" -> \\\"http://127.0.0.1:{port}\\\" \")\n",
        "\n",
        "# 管理使用者搜尋狀態\n",
        "search_mode_users = set()\n",
        "# 記錄每個 user_id 的對話歷史\n",
        "conversation_histories = {}\n",
        "\n",
        "@app.route(\"/\", methods=['POST'])\n",
        "def linebot():\n",
        "    body = request.get_data(as_text=True)            # 取得收到的訊息內容\n",
        "    try:\n",
        "        json_data = json.loads(body)            # json 格式化訊息內容\n",
        "        access_token = userdata.get('ChannelAccessToken')\n",
        "        secret = userdata.get('ChannelSecret')\n",
        "        line_bot_api = LineBotApi(access_token)       # 確認 token 是否正確\n",
        "        handler = WebhookHandler(secret)           # 確認 secret 是否正確\n",
        "        signature = request.headers['X-Line-Signature']   # 加入回傳的 headers\n",
        "        handler.handle(body, signature)            # 綁定訊息回傳的相關資訊\n",
        "\n",
        "        event = json_data['events'][0]\n",
        "        msg = event['message']['text']           # 取得 LINE 收到的文字訊息\n",
        "        tk = event['replyToken']              # 取得回傳訊息的 Token\n",
        "        user_id = event['source']['userId']\n",
        "\n",
        "        # 初始化該使用者的對話歷史（如果還沒有的話）\n",
        "        if user_id not in conversation_histories:\n",
        "            conversation_histories[user_id] = []\n",
        "\n",
        "        #使用者按下搜尋按鈕（傳出特定訊息）\n",
        "        if msg == \"我要開始輸入問題囉\":\n",
        "            search_mode_users.add(user_id)\n",
        "            line_bot_api.reply_message(tk, TextSendMessage(\"請輸入你想查詢的問題，我會幫你搜尋並分析\"))\n",
        "\n",
        "        #如果使用者在搜尋模式中\n",
        "        if user_id in search_mode_users:\n",
        "            query_keywords = Analyze_keywords(msg)\n",
        "            SerpAPI_search_result = SerpAPI_search(query_keywords)\n",
        "            answer = Groq_Analyze(SerpAPI_search_result, msg)\n",
        "            search_mode_users.remove(user_id)\n",
        "        else:#一般對話模式（不搜尋）\n",
        "            answer = Groq_Chat(user_id, msg)\n",
        "\n",
        "        # 更新對話歷史\n",
        "        conversation_histories[user_id].append({\"role\": \"user\", \"content\": msg})\n",
        "        conversation_histories[user_id].append({\"role\": \"assistant\", \"content\": answer})\n",
        "\n",
        "        # 保留最近 50 輪（100筆 message）\n",
        "        if len(conversation_histories[user_id]) > 100:\n",
        "            conversation_histories[user_id] = conversation_histories[user_id][-100:]\n",
        "\n",
        "        line_bot_api.reply_message(tk, TextSendMessage(answer))  # 回傳訊息\n",
        "\n",
        "\n",
        "    except:\n",
        "        print(body)                      # 如果發生錯誤，印出收到的內容\n",
        "    return 'OK'                          # 驗證 Webhook 使用，不能省略\n",
        "if __name__ == \"__main__\":\n",
        "  app.run()"
      ],
      "metadata": {
        "id": "li5kbf1yPqtQ"
      },
      "execution_count": null,
      "outputs": []
    }
  ]
}